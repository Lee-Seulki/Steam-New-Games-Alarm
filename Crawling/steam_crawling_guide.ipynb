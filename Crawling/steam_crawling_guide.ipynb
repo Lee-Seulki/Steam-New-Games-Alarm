{
 "cells": [
  {
   "cell_type": "code",
   "execution_count": 1,
   "metadata": {},
   "outputs": [],
   "source": [
    "import requests\n",
    "from bs4 import BeautifulSoup\n",
    "import json"
   ]
  },
  {
   "cell_type": "markdown",
   "metadata": {},
   "source": [
    "## 신규 출시 인기제품의 타이틀 따보기\n",
    "- 크롤링 가닥을 잡기 위해 해본 것"
   ]
  },
  {
   "cell_type": "code",
   "execution_count": null,
   "metadata": {},
   "outputs": [],
   "source": [
    "result = []\n",
    "for start in range(0, 401, 50):\n",
    "    URL = 'https://store.steampowered.com/search/results/?query&start='+str(start)+'&count=50&sort_by=Released_DESC&snr=1_7_7_popularnew_7&filter=popularnew&os=win&infinite=1'\n",
    "    res = requests.get(URL, cookies={\n",
    "        'Steam_Language':'koreana'\n",
    "    })\n",
    "    json_data = res.json()\n",
    "    soup = BeautifulSoup(json_data['results_html'], 'html.parser')\n",
    "    titles = soup.select('.col.search_name.ellipsis .title')\n",
    "    \n",
    "    for title in titles:\n",
    "        result.append(title.text)\n",
    "\n",
    "result"
   ]
  },
  {
   "cell_type": "markdown",
   "metadata": {},
   "source": [
    "## 신규 출시 인기제품의 app id수집\n",
    "- https://store.steampowered.com/app/+appid 해주면 각각의 게임들의 페이지에 접속할 수 있다."
   ]
  },
  {
   "cell_type": "code",
   "execution_count": 2,
   "metadata": {},
   "outputs": [],
   "source": [
    "# a태그의 appid들을 수집\n",
    "# 기존의 아이디 리스트를 수집하는 과정\n",
    "id_list = []\n",
    "for start in range(0, 451, 50):\n",
    "    URL = 'https://store.steampowered.com/search/results/?query&start='+str(start)+'&count=50&sort_by=Released_DESC&snr=1_7_7_popularnew_7&filter=popularnew&os=win&infinite=1'\n",
    "    res = requests.get(URL, cookies={\n",
    "        'Steam_Language':'koreana'\n",
    "    })\n",
    "    json_data = res.json()\n",
    "    soup = BeautifulSoup(json_data['results_html'], 'html.parser')\n",
    "    appids = soup.select('a')\n",
    "    \n",
    "    for appid in appids:\n",
    "        idtag = appid.attrs['data-ds-appid']\n",
    "        id_list.append(idtag)"
   ]
  },
  {
   "cell_type": "code",
   "execution_count": null,
   "metadata": {},
   "outputs": [],
   "source": [
    "id_list"
   ]
  },
  {
   "cell_type": "code",
   "execution_count": 4,
   "metadata": {},
   "outputs": [],
   "source": [
    "# 스팀은 아이디 규칙이 없다..\n",
    "# 기존 id_list 파일 만들기 및 저장\n",
    "with open('./id_list.txt', 'w') as f:\n",
    "    for id in id_list:\n",
    "        f.write(id + '\\n')"
   ]
  },
  {
   "cell_type": "markdown",
   "metadata": {},
   "source": [
    "### 신규 데이터를 체크할 때 id 값 비교\n",
    "1. id값이 커지는 경우: 지금까지 저장한 id가져오고 이거보다 크면 신규데이터니까 가져오고 아니면 break, 그만 가져오기\n",
    "2. id 규칙이 없는 경우: 최신순 정렬\n",
    "    - 내가 크롤링한 데이터의 id를 모두 저장\n",
    "    - `containment test` 진행"
   ]
  },
  {
   "cell_type": "code",
   "execution_count": 5,
   "metadata": {},
   "outputs": [],
   "source": [
    "# 신작게임 많아봤자 3개나오니까 그냥 첫페이지만 긁어줌\n",
    "new_crawling_id = []\n",
    "URL = 'https://store.steampowered.com/search/results/?query&start=0&count=50&dynamic_data=&sort_by=Released_DESC&snr=1_7_7_popularnew_7&filter=popularnew&os=win&infinite=1'\n",
    "res = requests.get(URL, cookies={\n",
    "    'Steam_Language':'koreana'\n",
    "})\n",
    "json_data = res.json()\n",
    "soup = BeautifulSoup(json_data['results_html'], 'html.parser')\n",
    "appids = soup.select('a')[:10]\n",
    "\n",
    "for appid in appids:\n",
    "    idtag = appid.attrs['data-ds-appid']\n",
    "    new_crawling_id.append(idtag)"
   ]
  },
  {
   "cell_type": "code",
   "execution_count": 6,
   "metadata": {},
   "outputs": [
    {
     "data": {
      "text/plain": [
       "['1636660', '1061910', '1726400', '1121640', '2060280']"
      ]
     },
     "execution_count": 6,
     "metadata": {},
     "output_type": "execute_result"
    }
   ],
   "source": [
    "new_crawling_id"
   ]
  },
  {
   "cell_type": "code",
   "execution_count": 7,
   "metadata": {},
   "outputs": [],
   "source": [
    "# 기존 아이디 리스트를 불러온다.(\\n이 포함돼있음)\n",
    "with open('./id_list.txt', 'r', encoding='utf-8') as f:\n",
    "    id_list = f.readlines()\n",
    "    origin_id_list = [] # 공백 없애준 id를 담아주기위한 origin id list\n",
    "    for id in id_list:\n",
    "        temp = id.rstrip()\n",
    "        origin_id_list.append(temp) "
   ]
  },
  {
   "cell_type": "code",
   "execution_count": 9,
   "metadata": {},
   "outputs": [
    {
     "data": {
      "text/plain": [
       "['1636660', '1061910', '1726400', '1121640', '2060280']"
      ]
     },
     "execution_count": 9,
     "metadata": {},
     "output_type": "execute_result"
    }
   ],
   "source": [
    "new_crawling_id"
   ]
  },
  {
   "cell_type": "code",
   "execution_count": 10,
   "metadata": {},
   "outputs": [
    {
     "data": {
      "text/plain": [
       "['1636660', '1061910']"
      ]
     },
     "execution_count": 10,
     "metadata": {},
     "output_type": "execute_result"
    }
   ],
   "source": [
    "# id list 갱신\n",
    "new_id = []\n",
    "for id in new_crawling_id:\n",
    "    if id not in origin_id_list:\n",
    "        new_id.append(id)\n",
    "new_id"
   ]
  },
  {
   "cell_type": "markdown",
   "metadata": {},
   "source": [
    "# 수집한 app id를 바탕으로 각 게임 최소사양 불러오기"
   ]
  },
  {
   "cell_type": "code",
   "execution_count": 11,
   "metadata": {},
   "outputs": [],
   "source": [
    "sysreqlist = {}\n",
    "for i in range(len(new_id)):\n",
    "    appidURL = 'https://store.steampowered.com/app/'+new_id[i]\n",
    "    res = requests.get(appidURL, cookies={\n",
    "        'Steam_Language':'koreana'\n",
    "    })\n",
    "    soup = BeautifulSoup(res.text, 'html.parser')\n",
    "\n",
    "    sysreq_content = soup.select_one('.game_area_sys_req.sysreq_content.active[data-os=\"win\"]')\n",
    "    if sysreq_content.select_one('.game_area_sys_req_leftCol') == None:\n",
    "        sysreqs = sysreq_content.select('.game_area_sys_req_full li')\n",
    "    else:\n",
    "         sysreqs = sysreq_content.select('.game_area_sys_req_leftCol li')\n",
    "   \n",
    "    appName = soup.select_one('#appHubAppName').text\n",
    "    genre = soup.select('.glance_tags.popular_tags a')[0].text.strip()\n",
    "    title = appName + ' (' + genre + ')'\n",
    "    \n",
    "    req_list = []\n",
    "    for sysreq in sysreqs:\n",
    "        # >문장<이 나오면 제외.\n",
    "        if '필요합니다' in sysreq.text:\n",
    "            continue\n",
    "        elif '추가 사항' in sysreq.text:\n",
    "            continue\n",
    "        else:\n",
    "            req = sysreq.text.strip()\n",
    "            req_list.append(req)\n",
    "    sysreqlist[title] = req_list"
   ]
  },
  {
   "cell_type": "code",
   "execution_count": null,
   "metadata": {},
   "outputs": [],
   "source": [
    "sysreqlist"
   ]
  },
  {
   "cell_type": "code",
   "execution_count": 13,
   "metadata": {},
   "outputs": [],
   "source": [
    "for id in origin_id_list:\n",
    "    new_id.append(id)\n",
    "# id_list 갱신\n",
    "with open('./id_list.txt', 'w') as f:\n",
    "    for id in new_id:\n",
    "        f.write(id + '\\n')"
   ]
  },
  {
   "cell_type": "code",
   "execution_count": 4,
   "metadata": {},
   "outputs": [
    {
     "name": "stdout",
     "output_type": "stream",
     "text": [
      "/home/ubuntu/seulki_package/Crawling\n"
     ]
    }
   ],
   "source": [
    "import os\n",
    "currentPath = os.getcwd()\n",
    "print(currentPath)\n",
    "os.chdir(currentPath)"
   ]
  },
  {
   "cell_type": "code",
   "execution_count": 5,
   "metadata": {},
   "outputs": [
    {
     "data": {
      "text/plain": [
       "'/home/ubuntu/seulki_package/Crawling'"
      ]
     },
     "execution_count": 5,
     "metadata": {},
     "output_type": "execute_result"
    }
   ],
   "source": [
    "os.getcwd()"
   ]
  }
 ],
 "metadata": {
  "kernelspec": {
   "display_name": "Python 3.8.10 64-bit",
   "language": "python",
   "name": "python3"
  },
  "language_info": {
   "codemirror_mode": {
    "name": "ipython",
    "version": 3
   },
   "file_extension": ".py",
   "mimetype": "text/x-python",
   "name": "python",
   "nbconvert_exporter": "python",
   "pygments_lexer": "ipython3",
   "version": "3.8.10"
  },
  "orig_nbformat": 4,
  "vscode": {
   "interpreter": {
    "hash": "916dbcbb3f70747c44a77c7bcd40155683ae19c65e1c03b4aa3499c5328201f1"
   }
  }
 },
 "nbformat": 4,
 "nbformat_minor": 2
}
